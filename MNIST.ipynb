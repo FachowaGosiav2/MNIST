{
 "cells": [
  {
   "cell_type": "code",
   "execution_count": 1,
   "metadata": {},
   "outputs": [],
   "source": [
    "import numpy as np\n",
    "import pandas as pd\n",
    "from tensorflow.keras.datasets import mnist"
   ]
  },
  {
   "cell_type": "code",
   "execution_count": 2,
   "metadata": {},
   "outputs": [],
   "source": [
    "mnist = mnist.load_data()\n",
    "(X_train_full, y_train_full), (X_test, y_test) = mnist\n",
    "X_train_full = np.expand_dims(X_train_full, axis=-1).astype(np.float32) / 255\n",
    "X_test = np.expand_dims(X_test.astype(np.float32), axis=-1) / 255\n",
    "X_train, X_valid = X_train_full[:-5000], X_train_full[-5000:]\n",
    "y_train, y_valid = y_train_full[:-5000], y_train_full[-5000:]"
   ]
  },
  {
   "cell_type": "code",
   "execution_count": 3,
   "metadata": {},
   "outputs": [],
   "source": [
    "from tensorflow.keras.layers import Conv2D, Dense, MaxPool2D, Flatten, Dropout\n",
    "from tensorflow.keras import Sequential\n",
    "from tensorflow.keras.activations import relu, softmax\n",
    "from tensorflow.keras.optimizers import Nadam\n",
    "from tensorflow.keras.initializers import he_normal\n",
    "from tensorflow.keras.losses import sparse_categorical_crossentropy\n",
    "from tensorflow.keras.backend import clear_session\n",
    "from tensorflow.random import set_seed\n",
    "from functools import partial"
   ]
  },
  {
   "cell_type": "code",
   "execution_count": 4,
   "metadata": {},
   "outputs": [],
   "source": [
    "clear_session()\n",
    "set_seed(42)"
   ]
  },
  {
   "cell_type": "code",
   "execution_count": 5,
   "metadata": {},
   "outputs": [],
   "source": [
    "DefaultConv2D = partial(Conv2D, kernel_size=3, padding=\"same\",\n",
    "                        activation=relu, kernel_initializer=he_normal)\n",
    "model = Sequential([\n",
    "    DefaultConv2D(filters=64, kernel_size=7, input_shape=[28, 28, 1]),\n",
    "    MaxPool2D(),\n",
    "    DefaultConv2D(filters=128),\n",
    "    DefaultConv2D(filters=128),\n",
    "    MaxPool2D(),\n",
    "    DefaultConv2D(filters=256),\n",
    "    DefaultConv2D(filters=256),\n",
    "    MaxPool2D(),\n",
    "    Flatten(),\n",
    "    Dense(units=128, activation=relu,\n",
    "                          kernel_initializer=he_normal),\n",
    "    Dropout(0.5),\n",
    "    Dense(units=64, activation=relu,\n",
    "                          kernel_initializer=he_normal),\n",
    "    Dropout(0.5),\n",
    "    Dense(units=10, activation=softmax)\n",
    "])"
   ]
  },
  {
   "cell_type": "code",
   "execution_count": 6,
   "metadata": {},
   "outputs": [
    {
     "name": "stdout",
     "output_type": "stream",
     "text": [
      "Epoch 1/15\n",
      "1719/1719 [==============================] - 18s 8ms/step - loss: 0.6746 - accuracy: 0.7785 - val_loss: 0.0661 - val_accuracy: 0.9800\n",
      "Epoch 2/15\n",
      "1719/1719 [==============================] - 13s 7ms/step - loss: 0.2113 - accuracy: 0.9405 - val_loss: 0.0459 - val_accuracy: 0.9880\n",
      "Epoch 3/15\n",
      "1719/1719 [==============================] - 13s 7ms/step - loss: 0.1380 - accuracy: 0.9622 - val_loss: 0.0332 - val_accuracy: 0.9912\n",
      "Epoch 4/15\n",
      "1719/1719 [==============================] - 13s 8ms/step - loss: 0.1010 - accuracy: 0.9728 - val_loss: 0.0312 - val_accuracy: 0.9926\n",
      "Epoch 5/15\n",
      "1719/1719 [==============================] - 12s 7ms/step - loss: 0.0790 - accuracy: 0.9794 - val_loss: 0.0333 - val_accuracy: 0.9930\n",
      "Epoch 6/15\n",
      "1719/1719 [==============================] - 12s 7ms/step - loss: 0.0663 - accuracy: 0.9832 - val_loss: 0.0390 - val_accuracy: 0.9912\n",
      "Epoch 7/15\n",
      "1719/1719 [==============================] - 12s 7ms/step - loss: 0.0554 - accuracy: 0.9865 - val_loss: 0.0340 - val_accuracy: 0.9934\n",
      "Epoch 8/15\n",
      "1719/1719 [==============================] - 13s 7ms/step - loss: 0.0465 - accuracy: 0.9882 - val_loss: 0.0386 - val_accuracy: 0.9918\n",
      "Epoch 9/15\n",
      "1719/1719 [==============================] - 13s 7ms/step - loss: 0.0401 - accuracy: 0.9893 - val_loss: 0.0374 - val_accuracy: 0.9928\n",
      "Epoch 10/15\n",
      "1719/1719 [==============================] - 12s 7ms/step - loss: 0.0323 - accuracy: 0.9914 - val_loss: 0.0430 - val_accuracy: 0.9922\n",
      "Epoch 11/15\n",
      "1719/1719 [==============================] - 13s 7ms/step - loss: 0.0284 - accuracy: 0.9923 - val_loss: 0.0365 - val_accuracy: 0.9938\n",
      "Epoch 12/15\n",
      "1719/1719 [==============================] - 13s 8ms/step - loss: 0.0258 - accuracy: 0.9935 - val_loss: 0.0424 - val_accuracy: 0.9922\n",
      "Epoch 13/15\n",
      "1719/1719 [==============================] - 12s 7ms/step - loss: 0.0226 - accuracy: 0.9942 - val_loss: 0.0514 - val_accuracy: 0.9902\n",
      "Epoch 14/15\n",
      "1719/1719 [==============================] - 12s 7ms/step - loss: 0.0229 - accuracy: 0.9941 - val_loss: 0.0425 - val_accuracy: 0.9930\n",
      "Epoch 15/15\n",
      "1719/1719 [==============================] - 12s 7ms/step - loss: 0.0200 - accuracy: 0.9948 - val_loss: 0.0356 - val_accuracy: 0.9932\n",
      "313/313 [==============================] - 1s 2ms/step - loss: 0.0311 - accuracy: 0.9944\n",
      "1/1 [==============================] - 0s 192ms/step\n"
     ]
    }
   ],
   "source": [
    "optimizer = Nadam(learning_rate=0.1e-3,)\n",
    "model.compile(loss=sparse_categorical_crossentropy, optimizer=optimizer,\n",
    "              metrics=['accuracy'])\n",
    "history = model.fit(X_train, y_train, epochs=15,\n",
    "                    validation_data=(X_valid, y_valid))\n",
    "score = model.evaluate(X_test, y_test)\n",
    "X_new = X_test[:10]\n",
    "y_pred = model.predict(X_new)"
   ]
  }
 ],
 "metadata": {
  "kernelspec": {
   "display_name": "tf",
   "language": "python",
   "name": "python3"
  },
  "language_info": {
   "codemirror_mode": {
    "name": "ipython",
    "version": 3
   },
   "file_extension": ".py",
   "mimetype": "text/x-python",
   "name": "python",
   "nbconvert_exporter": "python",
   "pygments_lexer": "ipython3",
   "version": "3.9.17"
  },
  "orig_nbformat": 4
 },
 "nbformat": 4,
 "nbformat_minor": 2
}
